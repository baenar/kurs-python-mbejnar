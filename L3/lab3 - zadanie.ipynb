{
 "cells": [
  {
   "cell_type": "markdown",
   "metadata": {},
   "source": [
    "### Kilka uwag do zadania"
   ]
  },
  {
   "cell_type": "markdown",
   "metadata": {},
   "source": [
    "Wskazówka 1 - sortowanie"
   ]
  },
  {
   "cell_type": "code",
   "execution_count": 1,
   "metadata": {},
   "outputs": [
    {
     "data": {
      "text/plain": [
       "[1, 2, 3, 5, 7]"
      ]
     },
     "execution_count": 1,
     "metadata": {},
     "output_type": "execute_result"
    }
   ],
   "source": [
    "l = [2,3,7,5,1]\n",
    "sorted(l)"
   ]
  },
  {
   "cell_type": "markdown",
   "metadata": {},
   "source": [
    "Wskazówka 2 - wczytywanie"
   ]
  },
  {
   "cell_type": "code",
   "execution_count": 2,
   "metadata": {},
   "outputs": [
    {
     "name": "stdout",
     "output_type": "stream",
     "text": [
      "Podaj napis: Ala\n",
      "Twój napis to `Ala`\n"
     ]
    }
   ],
   "source": [
    "x = input(\"Podaj napis: \")\n",
    "print(\"Twój napis to `\" + x + \"`\")"
   ]
  },
  {
   "cell_type": "markdown",
   "metadata": {},
   "source": [
    "# Zadanie domowe:\n",
    "Zadanie: Śledzenie Spędzonego Czasu\n",
    "\n",
    "Stwórz program, który pozwala śledzić czas spędzony na różnych aktywnościach. Użyj słownika do przechowywania danych o aktywnościach oraz listy do śledzenia czasu spędzonego na każdej z nich. Program powinien mieć trzy główne funkcje:\n",
    "* Dodaj Aktywność: Użytkownik może dodać nową aktywność do śledzenia. Jeśli aktywność już istnieje, program powinien tylko zaktualizować ją o nowy czas. Struktura danych może wyglądać tak:\n",
    "    {\n",
    "    'Aktywność 1': [czas1, czas2, czas3, ...],\n",
    "    'Aktywność 2': [czas1, czas2, czas3, ...],\n",
    "    ...\n",
    "}\n",
    "* Pokaż Czas: Użytkownik może wybrać aktywność i zobaczyć, ile łącznie czasu spędził na niej.\n",
    "* Pokaż Top Aktywności: Program powinien pokazać top 3 aktywności, na których użytkownik spędził najwięcej czasu."
   ]
  },
  {
   "cell_type": "code",
   "execution_count": null,
   "metadata": {},
   "outputs": [
    {
     "name": "stdout",
     "output_type": "stream",
     "text": [
      "\n",
      "=== Wybierz akcję: ===\n",
      " 1. Dodaj aktywność\n",
      " 2. Pokaż czas\n",
      " 3. Pokaż top aktywności\n",
      " 4. Wyjście\n",
      "\n",
      "1\n",
      "Podaj nazwe aktywności:Spanie\n",
      "Podaj czas aktywności:20\n",
      "\n",
      "=== Wybierz akcję: ===\n",
      " 1. Dodaj aktywność\n",
      " 2. Pokaż czas\n",
      " 3. Pokaż top aktywności\n",
      " 4. Wyjście\n",
      "\n",
      "3\n",
      "1. Czynność: Spanie, czas spędzony: 20\n",
      "\n",
      "=== Wybierz akcję: ===\n",
      " 1. Dodaj aktywność\n",
      " 2. Pokaż czas\n",
      " 3. Pokaż top aktywności\n",
      " 4. Wyjście\n",
      "\n",
      "1\n",
      "Podaj nazwe aktywności:Nauka\n",
      "Podaj czas aktywności:30\n",
      "\n",
      "=== Wybierz akcję: ===\n",
      " 1. Dodaj aktywność\n",
      " 2. Pokaż czas\n",
      " 3. Pokaż top aktywności\n",
      " 4. Wyjście\n",
      "\n",
      "2\n",
      "Podaj nazwe aktywności:Nauka\n",
      "Suma czasów dla aktywności Nauka: 30\n",
      "\n",
      "=== Wybierz akcję: ===\n",
      " 1. Dodaj aktywność\n",
      " 2. Pokaż czas\n",
      " 3. Pokaż top aktywności\n",
      " 4. Wyjście\n",
      "\n",
      "1\n",
      "Podaj nazwe aktywności:Nauka \n",
      "Podaj czas aktywności:20\n",
      "\n",
      "=== Wybierz akcję: ===\n",
      " 1. Dodaj aktywność\n",
      " 2. Pokaż czas\n",
      " 3. Pokaż top aktywności\n",
      " 4. Wyjście\n",
      "\n",
      "3\n",
      "1. Czynność: Nauka, czas spędzony: 30\n",
      "2. Czynność: Spanie, czas spędzony: 20\n",
      "3. Czynność: Nauka , czas spędzony: 20\n",
      "\n",
      "=== Wybierz akcję: ===\n",
      " 1. Dodaj aktywność\n",
      " 2. Pokaż czas\n",
      " 3. Pokaż top aktywności\n",
      " 4. Wyjście\n",
      "\n",
      "1\n",
      "Podaj nazwe aktywności:Nauka\n",
      "Podaj czas aktywności:12\n",
      "\n",
      "=== Wybierz akcję: ===\n",
      " 1. Dodaj aktywność\n",
      " 2. Pokaż czas\n",
      " 3. Pokaż top aktywności\n",
      " 4. Wyjście\n",
      "\n",
      "3\n",
      "1. Czynność: Nauka, czas spędzony: 42\n",
      "2. Czynność: Spanie, czas spędzony: 20\n",
      "3. Czynność: Nauka , czas spędzony: 20\n",
      "\n",
      "=== Wybierz akcję: ===\n",
      " 1. Dodaj aktywność\n",
      " 2. Pokaż czas\n",
      " 3. Pokaż top aktywności\n",
      " 4. Wyjście\n",
      "\n"
     ]
    }
   ],
   "source": [
    "def addElementToListInDict(dictionary : dict, key : str, value : str):\n",
    "    if (key in dictionary.keys()):\n",
    "        dictionary[key].append(value)\n",
    "    else:\n",
    "        dictionary[key] = [value]\n",
    "\n",
    "def handleAddActivity(activities : dict):\n",
    "    activity = input(\"Podaj nazwe aktywności:\")\n",
    "    time = input(\"Podaj czas aktywności:\")\n",
    "    \n",
    "    addElementToListInDict(activities, activity, time)\n",
    "\n",
    "def handleShowTimeSpent(activities : dict):\n",
    "    activity = input(\"Podaj nazwe aktywności:\")\n",
    "    if (activity in activities.keys()):\n",
    "        print(f'Suma czasów dla aktywności {activity}: {sum(int(x) for x in activities[activity])}')\n",
    "    else:\n",
    "        print(f'Nie masz odnotowanego żadnego czasu dla aktywności {activity}')\n",
    "\n",
    "def handleShowTopActivities(activities : dict):\n",
    "    if len(activities) == 0:\n",
    "        print('Nie masz żadnych odnotowanych aktywności')\n",
    "        return \n",
    "    \n",
    "    reverse_dict = {}\n",
    "    for activity in activities.keys():\n",
    "        addElementToListInDict(reverse_dict, str(sum(int(x) for x in activities[activity])), activity)\n",
    "    \n",
    "    sorted_keys = list(reverse_dict.keys())\n",
    "    sorted_keys.sort()\n",
    "    sorted_keys.reverse()\n",
    "        \n",
    "    printed = 0\n",
    "    for key in sorted_keys:\n",
    "        for activity in reverse_dict[key]:\n",
    "            printed += 1\n",
    "            print(f'{printed}. Czynność: {activity}, czas spędzony: {key}')\n",
    "            if(printed >= 3): \n",
    "                break\n",
    "        if(printed >= 3):\n",
    "            break\n",
    "\n",
    "\n",
    "activities = {}\n",
    "\n",
    "# Example data\n",
    "# addElementToListInDict(activities, 'Bieganie', '10')\n",
    "# addElementToListInDict(activities, 'Bieganie', '15')\n",
    "# addElementToListInDict(activities, 'Nauka', '30')\n",
    "# addElementToListInDict(activities, 'Pływanie', '40')\n",
    "# addElementToListInDict(activities, 'Siłownia', '30')\n",
    "# addElementToListInDict(activities, 'Programowanie', '29')\n",
    "\n",
    "while (True):\n",
    "    print('\\n=== Wybierz akcję: ===')\n",
    "    print(' 1. Dodaj aktywność')\n",
    "    print(' 2. Pokaż czas')\n",
    "    print(' 3. Pokaż top aktywności')\n",
    "    print(' 4. Wyjście\\n')\n",
    "    \n",
    "    choice = input()\n",
    "    \n",
    "    match(choice):\n",
    "        case '1':\n",
    "            handleAddActivity(activities)\n",
    "        case '2': \n",
    "            handleShowTimeSpent(activities)\n",
    "        case '3':\n",
    "            handleShowTopActivities(activities)\n",
    "        case '4':\n",
    "            break\n",
    "        case _:\n",
    "            print('error')"
   ]
  },
  {
   "cell_type": "code",
   "execution_count": null,
   "metadata": {},
   "outputs": [],
   "source": []
  }
 ],
 "metadata": {
  "kernelspec": {
   "display_name": "Python 3 (ipykernel)",
   "language": "python",
   "name": "python3"
  },
  "language_info": {
   "codemirror_mode": {
    "name": "ipython",
    "version": 3
   },
   "file_extension": ".py",
   "mimetype": "text/x-python",
   "name": "python",
   "nbconvert_exporter": "python",
   "pygments_lexer": "ipython3",
   "version": "3.10.6"
  }
 },
 "nbformat": 4,
 "nbformat_minor": 2
}
